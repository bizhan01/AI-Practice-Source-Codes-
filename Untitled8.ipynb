{
 "cells": [
  {
   "cell_type": "code",
   "execution_count": 5,
   "id": "16e3f71d-3db4-4524-8b2d-1d60674fe849",
   "metadata": {},
   "outputs": [
    {
     "ename": "ModuleNotFoundError",
     "evalue": "No module named 'google'",
     "output_type": "error",
     "traceback": [
      "\u001b[1;31m---------------------------------------------------------------------------\u001b[0m",
      "\u001b[1;31mModuleNotFoundError\u001b[0m                       Traceback (most recent call last)",
      "Cell \u001b[1;32mIn[5], line 1\u001b[0m\n\u001b[1;32m----> 1\u001b[0m \u001b[38;5;28;01mfrom\u001b[39;00m \u001b[38;5;21;01mgoogle\u001b[39;00m\u001b[38;5;21;01m.\u001b[39;00m\u001b[38;5;21;01mcloud\u001b[39;00m \u001b[38;5;28;01mimport\u001b[39;00m translate\n\u001b[0;32m      3\u001b[0m \u001b[38;5;28;01mdef\u001b[39;00m \u001b[38;5;21mtranslate_text\u001b[39m(text, target_language):\n\u001b[0;32m      4\u001b[0m     client \u001b[38;5;241m=\u001b[39m translate\u001b[38;5;241m.\u001b[39mTranslationServiceClient()\n",
      "\u001b[1;31mModuleNotFoundError\u001b[0m: No module named 'google'"
     ]
    }
   ],
   "source": [
    "from google.cloud import translate\n",
    "\n",
    "def translate_text(text, target_language):\n",
    "    client = translate.TranslationServiceClient()\n",
    "\n",
    "    response = client.translate_text(\n",
    "        parent='projects/your-project-id/locations/global',\n",
    "        contents=[text],\n",
    "        mime_type='text/plain',\n",
    "        source_language_code='auto',\n",
    "        target_language_code=target_language\n",
    "    )\n",
    "\n",
    "    translated_text = response.translations[0].translated_text\n",
    "    return translated_text\n",
    "\n",
    "# Example usage:\n",
    "text = \"Hello, how are you?\"\n",
    "target_language = 'fr'  # French\n",
    "translated_text = translate_text(text, target_language)\n",
    "print(translated_text)"
   ]
  },
  {
   "cell_type": "code",
   "execution_count": null,
   "id": "9f5277cc-d38a-485e-bfa9-72cbe9987e28",
   "metadata": {},
   "outputs": [],
   "source": []
  }
 ],
 "metadata": {
  "kernelspec": {
   "display_name": "Python 3 (ipykernel)",
   "language": "python",
   "name": "python3"
  },
  "language_info": {
   "codemirror_mode": {
    "name": "ipython",
    "version": 3
   },
   "file_extension": ".py",
   "mimetype": "text/x-python",
   "name": "python",
   "nbconvert_exporter": "python",
   "pygments_lexer": "ipython3",
   "version": "3.12.0"
  }
 },
 "nbformat": 4,
 "nbformat_minor": 5
}
