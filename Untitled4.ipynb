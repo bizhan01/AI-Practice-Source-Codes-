{
 "cells": [
  {
   "cell_type": "code",
   "execution_count": 6,
   "id": "bf7220f0-5641-43f5-94fa-5b59d6e90b13",
   "metadata": {},
   "outputs": [
    {
     "name": "stdout",
     "output_type": "stream",
     "text": [
      "What is 6 - 10?\n"
     ]
    },
    {
     "name": "stdin",
     "output_type": "stream",
     "text": [
      "Please enter the answer:  4\n"
     ]
    },
    {
     "name": "stdout",
     "output_type": "stream",
     "text": [
      "You are a robot.\n"
     ]
    }
   ],
   "source": [
    "import random\n",
    "\n",
    "def generate_captcha():\n",
    "    num1 = random.randint(1, 10)\n",
    "    num2 = random.randint(1, 10)\n",
    "    operator = random.choice(['+', '-', '*'])\n",
    "    captcha = f\"What is {num1} {operator} {num2}?\"\n",
    "    if operator == '+':\n",
    "        answer = num1 + num2\n",
    "    elif operator == '-':\n",
    "        answer = num1 - num2\n",
    "    else:\n",
    "        answer = num1 * num2\n",
    "    return captcha, answer\n",
    "\n",
    "def verify_captcha(user_input, answer):\n",
    "    try:\n",
    "        user_answer = int(user_input)\n",
    "        if user_answer == answer:\n",
    "            return True\n",
    "    except ValueError:\n",
    "        pass\n",
    "    return False\n",
    "\n",
    "# Example usage:\n",
    "captcha, answer = generate_captcha()\n",
    "print(captcha)\n",
    "user_input = input(\"Please enter the answer: \")\n",
    "if verify_captcha(user_input, answer):\n",
    "    print(\"You are a human.\")\n",
    "else:\n",
    "    print(\"You are a robot.\")"
   ]
  },
  {
   "cell_type": "code",
   "execution_count": null,
   "id": "44207c33-05a1-4a0c-9135-a6f5e35ddada",
   "metadata": {},
   "outputs": [],
   "source": []
  }
 ],
 "metadata": {
  "kernelspec": {
   "display_name": "Python 3 (ipykernel)",
   "language": "python",
   "name": "python3"
  },
  "language_info": {
   "codemirror_mode": {
    "name": "ipython",
    "version": 3
   },
   "file_extension": ".py",
   "mimetype": "text/x-python",
   "name": "python",
   "nbconvert_exporter": "python",
   "pygments_lexer": "ipython3",
   "version": "3.12.0"
  }
 },
 "nbformat": 4,
 "nbformat_minor": 5
}
