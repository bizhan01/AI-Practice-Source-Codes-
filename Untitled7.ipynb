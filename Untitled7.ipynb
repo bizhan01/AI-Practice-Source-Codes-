{
 "cells": [
  {
   "cell_type": "code",
   "execution_count": 1,
   "id": "f5c53ac0-5679-4ec3-8fce-56c4f19e5d20",
   "metadata": {},
   "outputs": [
    {
     "name": "stdout",
     "output_type": "stream",
     "text": [
      "Question 1: What is the missing number in the sequence? 2, 4, 6, 8, __\n"
     ]
    },
    {
     "name": "stdin",
     "output_type": "stream",
     "text": [
      "Your answer:  10\n"
     ]
    },
    {
     "name": "stdout",
     "output_type": "stream",
     "text": [
      "Question 2: Which word does not fit with the others?\n",
      "a) Apple\n",
      "b) Banana\n",
      "c) Carrot\n",
      "d) Potato\n"
     ]
    },
    {
     "name": "stdin",
     "output_type": "stream",
     "text": [
      "Your answer:  d\n"
     ]
    },
    {
     "name": "stdout",
     "output_type": "stream",
     "text": [
      "Question 3: Rearrange the letters to form a meaningful word: R E A D\n"
     ]
    },
    {
     "name": "stdin",
     "output_type": "stream",
     "text": [
      "Your answer:  read\n"
     ]
    },
    {
     "name": "stdout",
     "output_type": "stream",
     "text": [
      "Your IQ score is: 66.66666666666666\n"
     ]
    }
   ],
   "source": [
    "def iq_test():\n",
    "    score = 0\n",
    "\n",
    "    # Question 1\n",
    "    print(\"Question 1: What is the missing number in the sequence? 2, 4, 6, 8, __\")\n",
    "    answer1 = input(\"Your answer: \")\n",
    "    if answer1 == \"10\":\n",
    "        score += 1\n",
    "\n",
    "    # Question 2\n",
    "    print(\"Question 2: Which word does not fit with the others?\")\n",
    "    print(\"a) Apple\")\n",
    "    print(\"b) Banana\")\n",
    "    print(\"c) Carrot\")\n",
    "    print(\"d) Potato\")\n",
    "    answer2 = input(\"Your answer: \")\n",
    "    if answer2.lower() == \"d\" or answer2.lower() == \"potato\":\n",
    "        score += 1\n",
    "\n",
    "    # Question 3\n",
    "    print(\"Question 3: Rearrange the letters to form a meaningful word: R E A D\")\n",
    "    answer3 = input(\"Your answer: \")\n",
    "    if answer3.lower() == \"dear\":\n",
    "        score += 1\n",
    "\n",
    "    # Calculate IQ score\n",
    "    iq = (score / 3) * 100\n",
    "    print(f\"Your IQ score is: {iq}\")\n",
    "\n",
    "# Run the IQ test\n",
    "iq_test()"
   ]
  },
  {
   "cell_type": "code",
   "execution_count": null,
   "id": "fac6b23c-b2b4-4882-856c-a4ced46a0fed",
   "metadata": {},
   "outputs": [],
   "source": []
  }
 ],
 "metadata": {
  "kernelspec": {
   "display_name": "Python 3 (ipykernel)",
   "language": "python",
   "name": "python3"
  },
  "language_info": {
   "codemirror_mode": {
    "name": "ipython",
    "version": 3
   },
   "file_extension": ".py",
   "mimetype": "text/x-python",
   "name": "python",
   "nbconvert_exporter": "python",
   "pygments_lexer": "ipython3",
   "version": "3.12.0"
  }
 },
 "nbformat": 4,
 "nbformat_minor": 5
}
