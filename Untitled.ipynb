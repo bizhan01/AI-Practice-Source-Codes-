{
 "cells": [
  {
   "cell_type": "code",
   "execution_count": null,
   "id": "d47cdf49-d190-45cb-9898-f792822d0fd0",
   "metadata": {},
   "outputs": [
    {
     "name": "stdin",
     "output_type": "stream",
     "text": [
      "User:  hello\n"
     ]
    },
    {
     "name": "stdout",
     "output_type": "stream",
     "text": [
      "AI: Hi Hamzah!\n"
     ]
    },
    {
     "name": "stdin",
     "output_type": "stream",
     "text": [
      "User:  who are you'\n"
     ]
    },
    {
     "name": "stdout",
     "output_type": "stream",
     "text": [
      "AI: I'm sorry, I didn't understand that.\n"
     ]
    },
    {
     "name": "stdin",
     "output_type": "stream",
     "text": [
      "User:  what is your name\n"
     ]
    },
    {
     "name": "stdout",
     "output_type": "stream",
     "text": [
      "AI: My name is ChatBot.\n"
     ]
    }
   ],
   "source": [
    "# Import the required libraries\n",
    "import random\n",
    "\n",
    "# Define a list of possible user inputs and corresponding AI responses\n",
    "user_inputs = [\n",
    "    \"Hello\",\n",
    "    \"How are you?\",\n",
    "    \"What's your name?\",\n",
    "    \"Tell me a joke\",\n",
    "    \"Exit\"\n",
    "]\n",
    "\n",
    "ai_responses = [\n",
    "    \"Hi Hamzah!\",\n",
    "    \"I'm good, thank you!\",\n",
    "    \"My name is ChatBot.\",\n",
    "    \"Why don't scientists trust atoms? Because they make up everything!\",\n",
    "    \"Goodbye!\"\n",
    "]\n",
    "\n",
    "# Define a function to simulate the AI's response\n",
    "def get_ai_response(user_input):\n",
    "    # Convert the user input to lowercase for easier comparison\n",
    "    user_input = user_input.lower()\n",
    "\n",
    "    # Check if the user wants to exit\n",
    "    if user_input == \"exit\":\n",
    "        return ai_responses[-1]\n",
    "\n",
    "    # Check if the user input matches any predefined patterns\n",
    "    if \"hello\" in user_input:\n",
    "        return ai_responses[0]\n",
    "    elif \"how are you\" in user_input:\n",
    "        return ai_responses[1]\n",
    "    elif \"name\" in user_input:\n",
    "        return ai_responses[2]\n",
    "    elif \"joke\" in user_input:\n",
    "        return ai_responses[3]\n",
    "    else:\n",
    "        return \"I'm sorry, I didn't understand that.\"\n",
    "\n",
    "# Main program loop\n",
    "while True:\n",
    "    # Get user input\n",
    "    user_input = input(\"User: \")\n",
    "\n",
    "    # Get AI response\n",
    "    ai_response = get_ai_response(user_input)\n",
    "\n",
    "    # Print AI response\n",
    "    print(\"AI: \" + ai_response)\n",
    "\n",
    "    # Check if the user wants to exit\n",
    "    if ai_response == ai_responses[-1]:\n",
    "        break"
   ]
  },
  {
   "cell_type": "code",
   "execution_count": null,
   "id": "80f4ab67-6463-4362-8e8c-504836564b79",
   "metadata": {},
   "outputs": [],
   "source": []
  }
 ],
 "metadata": {
  "kernelspec": {
   "display_name": "Python 3 (ipykernel)",
   "language": "python",
   "name": "python3"
  },
  "language_info": {
   "codemirror_mode": {
    "name": "ipython",
    "version": 3
   },
   "file_extension": ".py",
   "mimetype": "text/x-python",
   "name": "python",
   "nbconvert_exporter": "python",
   "pygments_lexer": "ipython3",
   "version": "3.12.0"
  }
 },
 "nbformat": 4,
 "nbformat_minor": 5
}
