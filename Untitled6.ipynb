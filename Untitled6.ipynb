{
 "cells": [
  {
   "cell_type": "code",
   "execution_count": 3,
   "id": "8c3fe81f-7886-4a0d-89ae-06c3a530aa53",
   "metadata": {},
   "outputs": [
    {
     "name": "stdout",
     "output_type": "stream",
     "text": [
      "Question 1: What is the capital of France?\n"
     ]
    },
    {
     "name": "stdin",
     "output_type": "stream",
     "text": [
      "Your answer:  34\n"
     ]
    },
    {
     "name": "stdout",
     "output_type": "stream",
     "text": [
      "Question 2: How many sides does a hexagon have?\n"
     ]
    },
    {
     "name": "stdin",
     "output_type": "stream",
     "text": [
      "Your answer:  45\n"
     ]
    },
    {
     "name": "stdout",
     "output_type": "stream",
     "text": [
      "Question 3: What is the next number in the sequence: 1, 3, 5, 7, ...?\n"
     ]
    },
    {
     "name": "stdin",
     "output_type": "stream",
     "text": [
      "Your answer:  64\n"
     ]
    },
    {
     "name": "stdout",
     "output_type": "stream",
     "text": [
      "Your IQ score is: 0.0\n"
     ]
    }
   ],
   "source": [
    "def iq_test():\n",
    "    score = 0\n",
    "\n",
    "    # Question 1\n",
    "    print(\"Question 1: What is the capital of France?\")\n",
    "    answer1 = input(\"Your answer: \")\n",
    "    if answer1.lower() == \"paris\":\n",
    "        score += 1\n",
    "\n",
    "    # Question 2\n",
    "    print(\"Question 2: How many sides does a hexagon have?\")\n",
    "    answer2 = input(\"Your answer: \")\n",
    "    if answer2 == \"6\":\n",
    "        score += 1\n",
    "\n",
    "    # Question 3\n",
    "    print(\"Question 3: What is the next number in the sequence: 1, 3, 5, 7, ...?\")\n",
    "    answer3 = input(\"Your answer: \")\n",
    "    if answer3 == \"9\":\n",
    "        score += 1\n",
    "\n",
    "    # Calculate IQ score\n",
    "    iq = (score / 3) * 100\n",
    "    print(f\"Your IQ score is: {iq}\")\n",
    "\n",
    "# Run the IQ test\n",
    "iq_test()"
   ]
  },
  {
   "cell_type": "code",
   "execution_count": null,
   "id": "ab2cb4e0-3f54-4af9-87e4-bda018595662",
   "metadata": {},
   "outputs": [],
   "source": []
  }
 ],
 "metadata": {
  "kernelspec": {
   "display_name": "Python 3 (ipykernel)",
   "language": "python",
   "name": "python3"
  },
  "language_info": {
   "codemirror_mode": {
    "name": "ipython",
    "version": 3
   },
   "file_extension": ".py",
   "mimetype": "text/x-python",
   "name": "python",
   "nbconvert_exporter": "python",
   "pygments_lexer": "ipython3",
   "version": "3.12.0"
  }
 },
 "nbformat": 4,
 "nbformat_minor": 5
}
