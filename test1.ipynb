{
 "cells": [
  {
   "cell_type": "code",
   "execution_count": null,
   "id": "09b76371-f926-476e-b00b-e1bd09e7cc9d",
   "metadata": {},
   "outputs": [
    {
     "name": "stdin",
     "output_type": "stream",
     "text": [
      "User:  hello \n"
     ]
    },
    {
     "name": "stdout",
     "output_type": "stream",
     "text": [
      "AI: I'm sorry, I don't understand. Can you please rephrase your question?\n"
     ]
    },
    {
     "name": "stdin",
     "output_type": "stream",
     "text": [
      "User:  how are you \n"
     ]
    },
    {
     "name": "stdout",
     "output_type": "stream",
     "text": [
      "AI: I'm sorry, I don't understand. Can you please rephrase your question?\n"
     ]
    },
    {
     "name": "stdin",
     "output_type": "stream",
     "text": [
      "User:  how are you\n"
     ]
    },
    {
     "name": "stdout",
     "output_type": "stream",
     "text": [
      "AI: I'm good, thank you! How about you?\n"
     ]
    },
    {
     "name": "stdin",
     "output_type": "stream",
     "text": [
      "User:  what is your name\n"
     ]
    },
    {
     "name": "stdout",
     "output_type": "stream",
     "text": [
      "AI: I am an AI program. You can call me ChatBot.\n"
     ]
    }
   ],
   "source": [
    "# Define a dictionary of predefined user inputs and corresponding AI responses\n",
    "responses = {\n",
    "    \"hello\": \"Hello, how can I assist you?\",\n",
    "    \"how are you\": \"I'm good, thank you! How about you?\",\n",
    "    \"what is your name\": \"I am an AI program. You can call me ChatBot.\",\n",
    "    \"default\": \"I'm sorry, I don't understand. Can you please rephrase your question?\"\n",
    "}\n",
    "\n",
    "# Main program loop\n",
    "while True:\n",
    "    user_input = input(\"User: \").lower()\n",
    "\n",
    "    # Check if user input is in the predefined responses\n",
    "    if user_input in responses:\n",
    "        print(\"AI:\", responses[user_input])\n",
    "    else:\n",
    "        print(\"AI:\", responses[\"default\"])"
   ]
  }
 ],
 "metadata": {
  "kernelspec": {
   "display_name": "Python 3 (ipykernel)",
   "language": "python",
   "name": "python3"
  },
  "language_info": {
   "codemirror_mode": {
    "name": "ipython",
    "version": 3
   },
   "file_extension": ".py",
   "mimetype": "text/x-python",
   "name": "python",
   "nbconvert_exporter": "python",
   "pygments_lexer": "ipython3",
   "version": "3.12.0"
  }
 },
 "nbformat": 4,
 "nbformat_minor": 5
}
