{
 "cells": [
  {
   "cell_type": "code",
   "execution_count": null,
   "id": "d8de0d9d-eb68-494a-9ba2-eda1128f32aa",
   "metadata": {},
   "outputs": [],
   "source": [
    "import matplotlib.pyplot as plt\n",
    "\n",
    "# Example: Drawing a circle\n",
    "def draw_circle():\n",
    "    # Create a figure and axis\n",
    "    fig, ax = plt.subplots()\n",
    "\n",
    "    # Draw a circle\n",
    "    circle = plt.Circle((0.5, 0.5), 0.2, color='blue')\n",
    "\n",
    "    # Add the circle to the axis\n",
    "    ax.add_patch(circle)\n",
    "\n",
    "    # Set the aspect ratio to equal\n",
    "    ax.set_aspect('equal')\n",
    "\n",
    "    # Set the limits of the plot\n",
    "    ax.set_xlim([0, 1])\n",
    "    ax.set_ylim([0, 1])\n",
    "\n",
    "    # Show the plot\n",
    "    plt.show()\n",
    "\n",
    "# Example: Drawing a line\n",
    "def draw_line():\n",
    "    # Create a figure and axis\n",
    "    fig, ax = plt.subplots()\n",
    "\n",
    "    # Define the coordinates of the line\n",
    "    x = [0, 1]\n",
    "    y = [0, 1]\n",
    "\n",
    "    # Plot the line\n",
    "    ax.plot(x, y, color='red')\n",
    "\n",
    "    # Set the limits of the plot\n",
    "    ax.set_xlim([0, 1])\n",
    "    ax.set_ylim([0, 1])\n",
    "\n",
    "    # Show the plot\n",
    "    plt.show()\n",
    "\n",
    "# Example usage\n",
    "draw_circle()\n",
    "draw_line()"
   ]
  }
 ],
 "metadata": {
  "kernelspec": {
   "display_name": "Python 3 (ipykernel)",
   "language": "python",
   "name": "python3"
  },
  "language_info": {
   "codemirror_mode": {
    "name": "ipython",
    "version": 3
   },
   "file_extension": ".py",
   "mimetype": "text/x-python",
   "name": "python",
   "nbconvert_exporter": "python",
   "pygments_lexer": "ipython3",
   "version": "3.12.0"
  }
 },
 "nbformat": 4,
 "nbformat_minor": 5
}
