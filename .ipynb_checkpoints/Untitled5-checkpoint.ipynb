{
 "cells": [
  {
   "cell_type": "code",
   "execution_count": 5,
   "id": "95436ede-1621-4244-81d0-8b2feb3ef0f0",
   "metadata": {},
   "outputs": [
    {
     "name": "stdout",
     "output_type": "stream",
     "text": [
      "Accuracy: 1.0\n",
      "User is identified as human.\n"
     ]
    }
   ],
   "source": [
    "from sklearn.ensemble import RandomForestClassifier\n",
    "from sklearn.model_selection import train_test_split\n",
    "from sklearn.metrics import accuracy_score\n",
    "import numpy as np\n",
    "\n",
    "# Generate training data\n",
    "human_features = [[0.7, 0.2], [0.8, 0.1], [0.6, 0.3], [0.9, 0.4]]  # Example features from human users\n",
    "robot_features = [[0.1, 0.8], [0.2, 0.9], [0.3, 0.7], [0.4, 0.6]]  # Example features from robot users\n",
    "labels = ['human', 'human', 'human', 'human', 'robot', 'robot', 'robot', 'robot']\n",
    "\n",
    "# Combine human and robot features\n",
    "all_features = human_features + robot_features\n",
    "all_labels = [0] * len(human_features) + [1] * len(robot_features)\n",
    "\n",
    "# Split the data into training and testing sets\n",
    "X_train, X_test, y_train, y_test = train_test_split(all_features, all_labels, test_size=0.2, random_state=42)\n",
    "\n",
    "# Train a Random Forest classifier\n",
    "classifier = RandomForestClassifier()\n",
    "classifier.fit(X_train, y_train)\n",
    "\n",
    "# Predict the labels for the test data\n",
    "y_pred = classifier.predict(X_test)\n",
    "\n",
    "# Calculate the accuracy of the classifier\n",
    "accuracy = accuracy_score(y_test, y_pred)\n",
    "print(f\"Accuracy: {accuracy}\")\n",
    "\n",
    "# Example usage:\n",
    "user_features = [[0.75, 0.25]]  # Example features from a new user\n",
    "user_label = classifier.predict(user_features)\n",
    "if user_label == 0:\n",
    "    print(\"User is identified as human.\")\n",
    "else:\n",
    "    print(\"User is identified as a robot.\")"
   ]
  },
  {
   "cell_type": "code",
   "execution_count": 3,
   "id": "e746d78e-5031-464e-989a-ebf19f9d4054",
   "metadata": {},
   "outputs": [
    {
     "name": "stdout",
     "output_type": "stream",
     "text": [
      "1.3.2\n"
     ]
    }
   ],
   "source": [
    "import sklearn\n",
    "\n",
    "print(sklearn.__version__)"
   ]
  },
  {
   "cell_type": "code",
   "execution_count": null,
   "id": "2d14214b-6254-48af-88e4-a7a113bc4fb6",
   "metadata": {},
   "outputs": [],
   "source": []
  }
 ],
 "metadata": {
  "kernelspec": {
   "display_name": "Python 3 (ipykernel)",
   "language": "python",
   "name": "python3"
  },
  "language_info": {
   "codemirror_mode": {
    "name": "ipython",
    "version": 3
   },
   "file_extension": ".py",
   "mimetype": "text/x-python",
   "name": "python",
   "nbconvert_exporter": "python",
   "pygments_lexer": "ipython3",
   "version": "3.12.0"
  }
 },
 "nbformat": 4,
 "nbformat_minor": 5
}
